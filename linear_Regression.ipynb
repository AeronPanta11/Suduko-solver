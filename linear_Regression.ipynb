{
  "cells": [
    {
      "cell_type": "markdown",
      "metadata": {
        "id": "view-in-github",
        "colab_type": "text"
      },
      "source": [
        "<a href=\"https://colab.research.google.com/github/AeronPanta11/Suduko-solver/blob/main/linear_Regression.ipynb\" target=\"_parent\"><img src=\"https://colab.research.google.com/assets/colab-badge.svg\" alt=\"Open In Colab\"/></a>"
      ]
    },
    {
      "cell_type": "markdown",
      "metadata": {
        "id": "dezx0L-G-Bsb"
      },
      "source": [
        "sample code"
      ]
    },
    {
      "cell_type": "code",
      "execution_count": null,
      "metadata": {
        "colab": {
          "base_uri": "https://localhost:8080/"
        },
        "id": "9AfvWkPfOGCt",
        "outputId": "91a34cae-4f1d-48e4-82be-8d0ab97baf1a"
      },
      "outputs": [
        {
          "name": "stdout",
          "output_type": "stream",
          "text": [
            "Drive already mounted at /content/drive; to attempt to forcibly remount, call drive.mount(\"/content/drive\", force_remount=True).\n"
          ]
        }
      ],
      "source": [
        "from google.colab import drive\n",
        "drive.mount('/content/drive')"
      ]
    },
    {
      "cell_type": "code",
      "execution_count": null,
      "metadata": {
        "colab": {
          "base_uri": "https://localhost:8080/"
        },
        "collapsed": true,
        "id": "4Yt5ke3c7HWO",
        "outputId": "85d5116a-d725-4a33-b054-99be609dc969"
      },
      "outputs": [
        {
          "name": "stdout",
          "output_type": "stream",
          "text": [
            "columns names are ['sepal length (cm)', 'sepal width (cm)', 'petal length (cm)', 'petal width (cm)']\n",
            "target names are ['setosa' 'versicolor' 'virginica']\n"
          ]
        }
      ],
      "source": [
        "from sklearn.datasets import load_iris\n",
        "iris= load_iris()\n",
        "column_names=iris.feature_names\n",
        "Target_names=iris.target_names\n",
        "print(\"columns names are\" ,column_names )\n",
        "print(\"target names are\",Target_names)\n"
      ]
    },
    {
      "cell_type": "markdown",
      "metadata": {
        "id": "iyk8ywOU9798"
      },
      "source": []
    },
    {
      "cell_type": "markdown",
      "metadata": {
        "id": "v-nMa_YJ-Lvo"
      },
      "source": [
        "Linear Regression"
      ]
    },
    {
      "cell_type": "code",
      "execution_count": null,
      "metadata": {
        "colab": {
          "background_save": true,
          "base_uri": "https://localhost:8080/"
        },
        "id": "fjAiyI-q-SXe",
        "outputId": "2749e8f6-71a7-403f-f7f6-53339b9532d9"
      },
      "outputs": [
        {
          "data": {
            "application/vnd.google.colaboratory.intrinsic+json": {
              "summary": "{\n  \"name\": \"# df\",\n  \"rows\": 5,\n  \"fields\": [\n    {\n      \"column\": \"Id\",\n      \"properties\": {\n        \"dtype\": \"number\",\n        \"std\": 51,\n        \"min\": 8,\n        \"max\": 127,\n        \"num_unique_values\": 5,\n        \"samples\": [\n          43,\n          44,\n          117\n        ],\n        \"semantic_type\": \"\",\n        \"description\": \"\"\n      }\n    },\n    {\n      \"column\": \"SepalLengthCm\",\n      \"properties\": {\n        \"dtype\": \"number\",\n        \"std\": 0.8899438184514795,\n        \"min\": 4.4,\n        \"max\": 6.5,\n        \"num_unique_values\": 4,\n        \"samples\": [\n          4.4,\n          6.2,\n          5.0\n        ],\n        \"semantic_type\": \"\",\n        \"description\": \"\"\n      }\n    },\n    {\n      \"column\": \"SepalWidthCm\",\n      \"properties\": {\n        \"dtype\": \"number\",\n        \"std\": 0.2863564212655271,\n        \"min\": 2.8,\n        \"max\": 3.5,\n        \"num_unique_values\": 5,\n        \"samples\": [\n          3.2,\n          3.5,\n          3.0\n        ],\n        \"semantic_type\": \"\",\n        \"description\": \"\"\n      }\n    },\n    {\n      \"column\": \"PetalLengthCm\",\n      \"properties\": {\n        \"dtype\": \"number\",\n        \"std\": 2.035436071214225,\n        \"min\": 1.3,\n        \"max\": 5.5,\n        \"num_unique_values\": 5,\n        \"samples\": [\n          1.3,\n          1.6,\n          5.5\n        ],\n        \"semantic_type\": \"\",\n        \"description\": \"\"\n      }\n    },\n    {\n      \"column\": \"PetalWidthCm\",\n      \"properties\": {\n        \"dtype\": \"number\",\n        \"std\": 0.8197560612767679,\n        \"min\": 0.2,\n        \"max\": 1.8,\n        \"num_unique_values\": 3,\n        \"samples\": [\n          0.2,\n          1.8,\n          0.6\n        ],\n        \"semantic_type\": \"\",\n        \"description\": \"\"\n      }\n    },\n    {\n      \"column\": \"Species\",\n      \"properties\": {\n        \"dtype\": \"category\",\n        \"num_unique_values\": 2,\n        \"samples\": [\n          \"Iris-virginica\",\n          \"Iris-setosa\"\n        ],\n        \"semantic_type\": \"\",\n        \"description\": \"\"\n      }\n    }\n  ]\n}",
              "type": "dataframe"
            },
            "text/html": [
              "\n",
              "  <div id=\"df-889ba03e-2ba6-4e92-aabb-4e3a9189fe42\" class=\"colab-df-container\">\n",
              "    <div>\n",
              "<style scoped>\n",
              "    .dataframe tbody tr th:only-of-type {\n",
              "        vertical-align: middle;\n",
              "    }\n",
              "\n",
              "    .dataframe tbody tr th {\n",
              "        vertical-align: top;\n",
              "    }\n",
              "\n",
              "    .dataframe thead th {\n",
              "        text-align: right;\n",
              "    }\n",
              "</style>\n",
              "<table border=\"1\" class=\"dataframe\">\n",
              "  <thead>\n",
              "    <tr style=\"text-align: right;\">\n",
              "      <th></th>\n",
              "      <th>Id</th>\n",
              "      <th>SepalLengthCm</th>\n",
              "      <th>SepalWidthCm</th>\n",
              "      <th>PetalLengthCm</th>\n",
              "      <th>PetalWidthCm</th>\n",
              "      <th>Species</th>\n",
              "    </tr>\n",
              "  </thead>\n",
              "  <tbody>\n",
              "    <tr>\n",
              "      <th>7</th>\n",
              "      <td>8</td>\n",
              "      <td>5.0</td>\n",
              "      <td>3.4</td>\n",
              "      <td>1.5</td>\n",
              "      <td>0.2</td>\n",
              "      <td>Iris-setosa</td>\n",
              "    </tr>\n",
              "    <tr>\n",
              "      <th>42</th>\n",
              "      <td>43</td>\n",
              "      <td>4.4</td>\n",
              "      <td>3.2</td>\n",
              "      <td>1.3</td>\n",
              "      <td>0.2</td>\n",
              "      <td>Iris-setosa</td>\n",
              "    </tr>\n",
              "    <tr>\n",
              "      <th>116</th>\n",
              "      <td>117</td>\n",
              "      <td>6.5</td>\n",
              "      <td>3.0</td>\n",
              "      <td>5.5</td>\n",
              "      <td>1.8</td>\n",
              "      <td>Iris-virginica</td>\n",
              "    </tr>\n",
              "    <tr>\n",
              "      <th>126</th>\n",
              "      <td>127</td>\n",
              "      <td>6.2</td>\n",
              "      <td>2.8</td>\n",
              "      <td>4.8</td>\n",
              "      <td>1.8</td>\n",
              "      <td>Iris-virginica</td>\n",
              "    </tr>\n",
              "    <tr>\n",
              "      <th>43</th>\n",
              "      <td>44</td>\n",
              "      <td>5.0</td>\n",
              "      <td>3.5</td>\n",
              "      <td>1.6</td>\n",
              "      <td>0.6</td>\n",
              "      <td>Iris-setosa</td>\n",
              "    </tr>\n",
              "  </tbody>\n",
              "</table>\n",
              "</div>\n",
              "    <div class=\"colab-df-buttons\">\n",
              "\n",
              "  <div class=\"colab-df-container\">\n",
              "    <button class=\"colab-df-convert\" onclick=\"convertToInteractive('df-889ba03e-2ba6-4e92-aabb-4e3a9189fe42')\"\n",
              "            title=\"Convert this dataframe to an interactive table.\"\n",
              "            style=\"display:none;\">\n",
              "\n",
              "  <svg xmlns=\"http://www.w3.org/2000/svg\" height=\"24px\" viewBox=\"0 -960 960 960\">\n",
              "    <path d=\"M120-120v-720h720v720H120Zm60-500h600v-160H180v160Zm220 220h160v-160H400v160Zm0 220h160v-160H400v160ZM180-400h160v-160H180v160Zm440 0h160v-160H620v160ZM180-180h160v-160H180v160Zm440 0h160v-160H620v160Z\"/>\n",
              "  </svg>\n",
              "    </button>\n",
              "\n",
              "  <style>\n",
              "    .colab-df-container {\n",
              "      display:flex;\n",
              "      gap: 12px;\n",
              "    }\n",
              "\n",
              "    .colab-df-convert {\n",
              "      background-color: #E8F0FE;\n",
              "      border: none;\n",
              "      border-radius: 50%;\n",
              "      cursor: pointer;\n",
              "      display: none;\n",
              "      fill: #1967D2;\n",
              "      height: 32px;\n",
              "      padding: 0 0 0 0;\n",
              "      width: 32px;\n",
              "    }\n",
              "\n",
              "    .colab-df-convert:hover {\n",
              "      background-color: #E2EBFA;\n",
              "      box-shadow: 0px 1px 2px rgba(60, 64, 67, 0.3), 0px 1px 3px 1px rgba(60, 64, 67, 0.15);\n",
              "      fill: #174EA6;\n",
              "    }\n",
              "\n",
              "    .colab-df-buttons div {\n",
              "      margin-bottom: 4px;\n",
              "    }\n",
              "\n",
              "    [theme=dark] .colab-df-convert {\n",
              "      background-color: #3B4455;\n",
              "      fill: #D2E3FC;\n",
              "    }\n",
              "\n",
              "    [theme=dark] .colab-df-convert:hover {\n",
              "      background-color: #434B5C;\n",
              "      box-shadow: 0px 1px 3px 1px rgba(0, 0, 0, 0.15);\n",
              "      filter: drop-shadow(0px 1px 2px rgba(0, 0, 0, 0.3));\n",
              "      fill: #FFFFFF;\n",
              "    }\n",
              "  </style>\n",
              "\n",
              "    <script>\n",
              "      const buttonEl =\n",
              "        document.querySelector('#df-889ba03e-2ba6-4e92-aabb-4e3a9189fe42 button.colab-df-convert');\n",
              "      buttonEl.style.display =\n",
              "        google.colab.kernel.accessAllowed ? 'block' : 'none';\n",
              "\n",
              "      async function convertToInteractive(key) {\n",
              "        const element = document.querySelector('#df-889ba03e-2ba6-4e92-aabb-4e3a9189fe42');\n",
              "        const dataTable =\n",
              "          await google.colab.kernel.invokeFunction('convertToInteractive',\n",
              "                                                    [key], {});\n",
              "        if (!dataTable) return;\n",
              "\n",
              "        const docLinkHtml = 'Like what you see? Visit the ' +\n",
              "          '<a target=\"_blank\" href=https://colab.research.google.com/notebooks/data_table.ipynb>data table notebook</a>'\n",
              "          + ' to learn more about interactive tables.';\n",
              "        element.innerHTML = '';\n",
              "        dataTable['output_type'] = 'display_data';\n",
              "        await google.colab.output.renderOutput(dataTable, element);\n",
              "        const docLink = document.createElement('div');\n",
              "        docLink.innerHTML = docLinkHtml;\n",
              "        element.appendChild(docLink);\n",
              "      }\n",
              "    </script>\n",
              "  </div>\n",
              "\n",
              "\n",
              "<div id=\"df-b222224e-6b3a-433b-9928-6447a9322827\">\n",
              "  <button class=\"colab-df-quickchart\" onclick=\"quickchart('df-b222224e-6b3a-433b-9928-6447a9322827')\"\n",
              "            title=\"Suggest charts\"\n",
              "            style=\"display:none;\">\n",
              "\n",
              "<svg xmlns=\"http://www.w3.org/2000/svg\" height=\"24px\"viewBox=\"0 0 24 24\"\n",
              "     width=\"24px\">\n",
              "    <g>\n",
              "        <path d=\"M19 3H5c-1.1 0-2 .9-2 2v14c0 1.1.9 2 2 2h14c1.1 0 2-.9 2-2V5c0-1.1-.9-2-2-2zM9 17H7v-7h2v7zm4 0h-2V7h2v10zm4 0h-2v-4h2v4z\"/>\n",
              "    </g>\n",
              "</svg>\n",
              "  </button>\n",
              "\n",
              "<style>\n",
              "  .colab-df-quickchart {\n",
              "      --bg-color: #E8F0FE;\n",
              "      --fill-color: #1967D2;\n",
              "      --hover-bg-color: #E2EBFA;\n",
              "      --hover-fill-color: #174EA6;\n",
              "      --disabled-fill-color: #AAA;\n",
              "      --disabled-bg-color: #DDD;\n",
              "  }\n",
              "\n",
              "  [theme=dark] .colab-df-quickchart {\n",
              "      --bg-color: #3B4455;\n",
              "      --fill-color: #D2E3FC;\n",
              "      --hover-bg-color: #434B5C;\n",
              "      --hover-fill-color: #FFFFFF;\n",
              "      --disabled-bg-color: #3B4455;\n",
              "      --disabled-fill-color: #666;\n",
              "  }\n",
              "\n",
              "  .colab-df-quickchart {\n",
              "    background-color: var(--bg-color);\n",
              "    border: none;\n",
              "    border-radius: 50%;\n",
              "    cursor: pointer;\n",
              "    display: none;\n",
              "    fill: var(--fill-color);\n",
              "    height: 32px;\n",
              "    padding: 0;\n",
              "    width: 32px;\n",
              "  }\n",
              "\n",
              "  .colab-df-quickchart:hover {\n",
              "    background-color: var(--hover-bg-color);\n",
              "    box-shadow: 0 1px 2px rgba(60, 64, 67, 0.3), 0 1px 3px 1px rgba(60, 64, 67, 0.15);\n",
              "    fill: var(--button-hover-fill-color);\n",
              "  }\n",
              "\n",
              "  .colab-df-quickchart-complete:disabled,\n",
              "  .colab-df-quickchart-complete:disabled:hover {\n",
              "    background-color: var(--disabled-bg-color);\n",
              "    fill: var(--disabled-fill-color);\n",
              "    box-shadow: none;\n",
              "  }\n",
              "\n",
              "  .colab-df-spinner {\n",
              "    border: 2px solid var(--fill-color);\n",
              "    border-color: transparent;\n",
              "    border-bottom-color: var(--fill-color);\n",
              "    animation:\n",
              "      spin 1s steps(1) infinite;\n",
              "  }\n",
              "\n",
              "  @keyframes spin {\n",
              "    0% {\n",
              "      border-color: transparent;\n",
              "      border-bottom-color: var(--fill-color);\n",
              "      border-left-color: var(--fill-color);\n",
              "    }\n",
              "    20% {\n",
              "      border-color: transparent;\n",
              "      border-left-color: var(--fill-color);\n",
              "      border-top-color: var(--fill-color);\n",
              "    }\n",
              "    30% {\n",
              "      border-color: transparent;\n",
              "      border-left-color: var(--fill-color);\n",
              "      border-top-color: var(--fill-color);\n",
              "      border-right-color: var(--fill-color);\n",
              "    }\n",
              "    40% {\n",
              "      border-color: transparent;\n",
              "      border-right-color: var(--fill-color);\n",
              "      border-top-color: var(--fill-color);\n",
              "    }\n",
              "    60% {\n",
              "      border-color: transparent;\n",
              "      border-right-color: var(--fill-color);\n",
              "    }\n",
              "    80% {\n",
              "      border-color: transparent;\n",
              "      border-right-color: var(--fill-color);\n",
              "      border-bottom-color: var(--fill-color);\n",
              "    }\n",
              "    90% {\n",
              "      border-color: transparent;\n",
              "      border-bottom-color: var(--fill-color);\n",
              "    }\n",
              "  }\n",
              "</style>\n",
              "\n",
              "  <script>\n",
              "    async function quickchart(key) {\n",
              "      const quickchartButtonEl =\n",
              "        document.querySelector('#' + key + ' button');\n",
              "      quickchartButtonEl.disabled = true;  // To prevent multiple clicks.\n",
              "      quickchartButtonEl.classList.add('colab-df-spinner');\n",
              "      try {\n",
              "        const charts = await google.colab.kernel.invokeFunction(\n",
              "            'suggestCharts', [key], {});\n",
              "      } catch (error) {\n",
              "        console.error('Error during call to suggestCharts:', error);\n",
              "      }\n",
              "      quickchartButtonEl.classList.remove('colab-df-spinner');\n",
              "      quickchartButtonEl.classList.add('colab-df-quickchart-complete');\n",
              "    }\n",
              "    (() => {\n",
              "      let quickchartButtonEl =\n",
              "        document.querySelector('#df-b222224e-6b3a-433b-9928-6447a9322827 button');\n",
              "      quickchartButtonEl.style.display =\n",
              "        google.colab.kernel.accessAllowed ? 'block' : 'none';\n",
              "    })();\n",
              "  </script>\n",
              "</div>\n",
              "\n",
              "    </div>\n",
              "  </div>\n"
            ],
            "text/plain": [
              "      Id  SepalLengthCm  SepalWidthCm  PetalLengthCm  PetalWidthCm  \\\n",
              "7      8            5.0           3.4            1.5           0.2   \n",
              "42    43            4.4           3.2            1.3           0.2   \n",
              "116  117            6.5           3.0            5.5           1.8   \n",
              "126  127            6.2           2.8            4.8           1.8   \n",
              "43    44            5.0           3.5            1.6           0.6   \n",
              "\n",
              "            Species  \n",
              "7       Iris-setosa  \n",
              "42      Iris-setosa  \n",
              "116  Iris-virginica  \n",
              "126  Iris-virginica  \n",
              "43      Iris-setosa  "
            ]
          },
          "execution_count": 14,
          "metadata": {},
          "output_type": "execute_result"
        }
      ],
      "source": [
        "import pandas as pd\n",
        "df=pd.read_csv(\"/content/drive/MyDrive/machine_learning/Iris.csv\")\n",
        "df.sample(5)\n",
        "df.corr\n",
        "# df.describe()\n",
        "df.shape"
      ]
    },
    {
      "cell_type": "markdown",
      "metadata": {
        "id": "6CC0vuW3YCcI"
      },
      "source": [
        "Preprocesing"
      ]
    },
    {
      "cell_type": "code",
      "source": [],
      "metadata": {
        "id": "Ic4FxUbl-ASg"
      },
      "execution_count": null,
      "outputs": []
    },
    {
      "cell_type": "code",
      "execution_count": 49,
      "metadata": {
        "id": "FQ6aQX6QYK8W",
        "colab": {
          "base_uri": "https://localhost:8080/"
        },
        "collapsed": true,
        "outputId": "49654b37-4cdb-448b-e611-5ac1921a5bc6"
      },
      "outputs": [
        {
          "output_type": "execute_result",
          "data": {
            "text/plain": [
              "array([[2.2],\n",
              "       [1.8],\n",
              "       [0.4],\n",
              "       [1.7],\n",
              "       [0.2],\n",
              "       [1.8],\n",
              "       [1.5],\n",
              "       [2.2],\n",
              "       [2.5],\n",
              "       [1.8],\n",
              "       [1.3],\n",
              "       [1.7],\n",
              "       [0.2],\n",
              "       [1.6],\n",
              "       [2. ],\n",
              "       [1.8],\n",
              "       [1. ],\n",
              "       [1.3],\n",
              "       [1.5],\n",
              "       [0.2],\n",
              "       [1.3],\n",
              "       [2. ],\n",
              "       [1.2],\n",
              "       [1.9],\n",
              "       [0.2],\n",
              "       [0.2],\n",
              "       [1.8],\n",
              "       [1.9],\n",
              "       [2. ],\n",
              "       [1.4],\n",
              "       [1.3],\n",
              "       [2. ],\n",
              "       [2.5],\n",
              "       [1. ],\n",
              "       [1.4],\n",
              "       [1.2],\n",
              "       [1.5],\n",
              "       [2.1],\n",
              "       [1.9],\n",
              "       [1.2],\n",
              "       [1.3],\n",
              "       [0.4],\n",
              "       [1.3],\n",
              "       [1.4],\n",
              "       [1. ],\n",
              "       [1.1],\n",
              "       [0.2],\n",
              "       [0.4],\n",
              "       [0.2],\n",
              "       [1.3],\n",
              "       [1.4],\n",
              "       [2.2],\n",
              "       [0.6],\n",
              "       [0.2],\n",
              "       [1.5],\n",
              "       [1.5],\n",
              "       [0.1],\n",
              "       [1.8],\n",
              "       [1.5],\n",
              "       [1.4],\n",
              "       [1.4],\n",
              "       [2.3],\n",
              "       [0.2],\n",
              "       [1.6],\n",
              "       [0.2],\n",
              "       [0.1],\n",
              "       [0.2],\n",
              "       [1.3],\n",
              "       [0.1],\n",
              "       [1.4],\n",
              "       [0.4],\n",
              "       [2.1],\n",
              "       [0.5],\n",
              "       [1.8],\n",
              "       [1.5],\n",
              "       [0.2],\n",
              "       [1.3],\n",
              "       [0.3],\n",
              "       [2.4],\n",
              "       [1.8],\n",
              "       [2.4],\n",
              "       [2.3],\n",
              "       [1.3],\n",
              "       [1.2],\n",
              "       [2.1],\n",
              "       [2.4],\n",
              "       [2.5],\n",
              "       [1.5],\n",
              "       [1.5],\n",
              "       [0.3],\n",
              "       [2.1],\n",
              "       [0.1],\n",
              "       [0.4],\n",
              "       [1. ],\n",
              "       [1.6],\n",
              "       [0.2],\n",
              "       [0.2],\n",
              "       [0.3],\n",
              "       [2.1],\n",
              "       [2.3],\n",
              "       [0.2],\n",
              "       [1.8],\n",
              "       [0.4],\n",
              "       [1.3],\n",
              "       [1.3],\n",
              "       [0.2],\n",
              "       [0.2],\n",
              "       [0.3],\n",
              "       [2.3],\n",
              "       [1.9],\n",
              "       [0.2],\n",
              "       [0.3],\n",
              "       [0.2],\n",
              "       [1.6],\n",
              "       [0.4],\n",
              "       [2.3],\n",
              "       [0.2],\n",
              "       [0.1],\n",
              "       [1. ],\n",
              "       [1.1]])"
            ]
          },
          "metadata": {},
          "execution_count": 49
        }
      ],
      "source": [
        "y=df['PetalWidthCm'].values.reshape(-1,1)\n",
        "x=df['PetalLengthCm'].values.reshape(-1,1)\n",
        "from sklearn.model_selection import train_test_split\n",
        "x_train,x_test,y_train,y_test=train_test_split(x,y,test_size=0.2)\n"
      ]
    },
    {
      "cell_type": "markdown",
      "metadata": {
        "id": "-n6fLFI5-IrQ"
      },
      "source": []
    },
    {
      "cell_type": "markdown",
      "source": [
        "Model_Training"
      ],
      "metadata": {
        "id": "V3PpavrJ-_nv"
      }
    },
    {
      "cell_type": "code",
      "source": [
        "from sklearn.linear_model import LinearRegression\n",
        "regression=LinearRegression()\n",
        "regression.fit(x_train,y_train)\n",
        "regression.predict([[7.5]])\n",
        "# intercept=regression.intercept_\n",
        "# print(intercept)\n",
        "# coff=regression.coef_\n",
        "# print(coff)\n"
      ],
      "metadata": {
        "colab": {
          "base_uri": "https://localhost:8080/"
        },
        "id": "65taHmZ0_B9I",
        "outputId": "e11de930-ed5e-442c-aacf-ac933bf05853"
      },
      "execution_count": 62,
      "outputs": [
        {
          "output_type": "execute_result",
          "data": {
            "text/plain": [
              "array([[2.71699818]])"
            ]
          },
          "metadata": {},
          "execution_count": 62
        }
      ]
    },
    {
      "cell_type": "markdown",
      "source": [
        "Manual JOb"
      ],
      "metadata": {
        "id": "qu53NRjm_6M_"
      }
    },
    {
      "cell_type": "code",
      "source": [
        "def calc(intercept,coff,value):\n",
        "  return (coff*value+intercept)"
      ],
      "metadata": {
        "id": "MU1OFUyN_9YQ"
      },
      "execution_count": null,
      "outputs": []
    },
    {
      "cell_type": "code",
      "source": [
        "calculation=calc(-0.3451,0.408285,7.5)\n",
        "print(calculation)\n"
      ],
      "metadata": {
        "colab": {
          "base_uri": "https://localhost:8080/"
        },
        "id": "y85uhy9dAz-j",
        "outputId": "ca413fe3-b13c-41e3-deca-3ab8e5afcd76"
      },
      "execution_count": 63,
      "outputs": [
        {
          "output_type": "stream",
          "name": "stdout",
          "text": [
            "[-2.93339436]\n"
          ]
        }
      ]
    },
    {
      "cell_type": "code",
      "source": [
        "y_predict=regression.predict(x_test)\n",
        "df_predict=pd.DataFrame({'Actual':y_test.squeeze(),'predicted':y_predict.squeeze()})\n",
        "print(df_predict)"
      ],
      "metadata": {
        "colab": {
          "base_uri": "https://localhost:8080/"
        },
        "id": "nTgpABMWClmQ",
        "outputId": "93f9f038-8770-422a-a405-9cf4235ed6cf"
      },
      "execution_count": 70,
      "outputs": [
        {
          "output_type": "stream",
          "name": "stdout",
          "text": [
            "    Actual  predicted\n",
            "0      0.2   0.185627\n",
            "1      0.2   0.226456\n",
            "2      1.3   1.369655\n",
            "3      0.1   0.267284\n",
            "4      1.9   1.737113\n",
            "5      0.2   0.267284\n",
            "6      2.1   1.982084\n",
            "7      2.0   1.696284\n",
            "8      0.2   0.267284\n",
            "9      1.8   1.614627\n",
            "10     1.5   1.369655\n",
            "11     1.2   1.369655\n",
            "12     2.0   1.737113\n",
            "13     1.0   1.287998\n",
            "14     0.2   0.226456\n",
            "15     1.8   1.655455\n",
            "16     1.5   1.655455\n",
            "17     0.2   0.308113\n",
            "18     2.3   1.859598\n",
            "19     0.3   0.185627\n",
            "20     0.3   0.226456\n",
            "21     2.3   2.145398\n",
            "22     0.2   0.308113\n",
            "23     1.8   1.655455\n",
            "24     1.0   1.165513\n",
            "25     1.5   1.492141\n",
            "26     0.2   0.226456\n",
            "27     1.4   1.573798\n",
            "28     1.1   0.879713\n",
            "29     2.3   1.777941\n"
          ]
        }
      ]
    },
    {
      "cell_type": "markdown",
      "source": [
        "Evaluatng the model"
      ],
      "metadata": {
        "id": "VRbpxGzIFIH7"
      }
    },
    {
      "cell_type": "code",
      "source": [
        "\n",
        "from sklearn.metrics import mean_absolute_error,mean_squared_error\n",
        "import numpy as np\n",
        "mse=mean_squared_error(y_test,y_predict)\n",
        "print(mse)\n",
        "mae=mean_absolute_error(y_test,y_predict)\n",
        "print(mae)\n",
        "rmse=np.sqrt(mse)\n",
        "print(rmse)"
      ],
      "metadata": {
        "colab": {
          "base_uri": "https://localhost:8080/"
        },
        "collapsed": true,
        "id": "zvCH2PFnBfqV",
        "outputId": "8ddbffcc-e402-4b05-e904-193124f40943"
      },
      "execution_count": 80,
      "outputs": [
        {
          "output_type": "stream",
          "name": "stdout",
          "text": [
            "0.037115794438878184\n",
            "0.15397442916288503\n",
            "0.19265459880023156\n"
          ]
        }
      ]
    }
  ],
  "metadata": {
    "colab": {
      "provenance": [],
      "toc_visible": true,
      "mount_file_id": "1V7JKcN3uUtW8Uwjqlv9TB9tsDXvXCUmd",
      "authorship_tag": "ABX9TyPDrwf4+OlriwA701+QCCgW",
      "include_colab_link": true
    },
    "kernelspec": {
      "display_name": "Python 3",
      "name": "python3"
    },
    "language_info": {
      "name": "python"
    }
  },
  "nbformat": 4,
  "nbformat_minor": 0
}